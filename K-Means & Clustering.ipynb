{
 "metadata": {
  "name": "",
  "signature": "sha256:1718c87f5b9861d75de845c3e037bbe3c311b068deef75e2b56fb6882a5ab94e"
 },
 "nbformat": 3,
 "nbformat_minor": 0,
 "worksheets": [
  {
   "cells": [
    {
     "cell_type": "code",
     "collapsed": false,
     "input": [
      "%pylab inline\n",
      "import scipy\n",
      "import collections"
     ],
     "language": "python",
     "metadata": {},
     "outputs": [
      {
       "output_type": "stream",
       "stream": "stdout",
       "text": [
        "Populating the interactive namespace from numpy and matplotlib\n"
       ]
      }
     ],
     "prompt_number": 152
    },
    {
     "cell_type": "code",
     "collapsed": false,
     "input": [
      "datos = loadtxt('data.dat')\n",
      "scatter(datos.T[0], datos.T[1])\n",
      "print (datos)\n",
      "a  = [[] for i in range(2)]\n",
      "print a\n",
      "b= [1,2]\n",
      "a[0].append(b)\n",
      "a[0].append(b)\n",
      "print np.linalg.norm(a[0][0] )\n",
      "x = y = []"
     ],
     "language": "python",
     "metadata": {},
     "outputs": [
      {
       "output_type": "stream",
       "stream": "stdout",
       "text": [
        "[[  1.30728392  11.21391315]\n",
        " [ -0.27155639  11.54247028]\n",
        " [ -0.42386486  13.21317045]\n",
        " [  1.28722983  10.48764629]\n",
        " [ -0.53338259  10.04564085]\n",
        " [ -0.12585717  10.76452804]\n",
        " [  0.06736538  10.65611664]\n",
        " [ -0.39079316   8.10818124]\n",
        " [ -0.26153533  13.19127086]\n",
        " [  0.72687173  12.05783933]\n",
        " [ 10.14571555   1.18425234]\n",
        " [  9.21400569   0.32863743]\n",
        " [  8.68396009   2.73302796]\n",
        " [  9.77689368   0.21671706]\n",
        " [ 10.07836241   3.10693573]\n",
        " [ 10.86448153   0.5244432 ]\n",
        " [  8.84931024   0.96105481]\n",
        " [ 10.08831983   1.87448027]\n",
        " [  8.02780382   1.32943945]\n",
        " [  9.58663322   1.25171099]]\n",
        "[[], []]\n",
        "2.2360679775\n"
       ]
      },
      {
       "metadata": {},
       "output_type": "display_data",
       "png": "[encoded data removed]",
       "text": [
        "<matplotlib.figure.Figure at 0xccb9a50>"
       ]
      }
     ],
     "prompt_number": 172
    },
    {
     "cell_type": "code",
     "collapsed": false,
     "input": [
      "def clustering( nClusters, data ):\n",
      "    i = j = 0\n",
      "    dim = len(data[0])\n",
      "    muestra = len(data)\n",
      "    arrayClusters = [[] for i in range(nClusters)]\n",
      "    clusterPoints = 10*np.random.random((dim, (len(data[0]))))\n",
      "    termino = False\n",
      "    while termino == False :\n",
      "        arrayClusters = [[] for i in range(nClusters)]\n",
      "        i = 0\n",
      "        for i in range(muestra):\n",
      "            dmin = np.linalg.norm(data[i] - clusterPoints[0])\n",
      "            nmin = 0\n",
      "            for j in range(1, nClusters):\n",
      "                n = np.linalg.norm(data[i] - clusterPoints[j])\n",
      "                if n < dmin:\n",
      "                    dmin = n\n",
      "                    nmin = j\n",
      "            arrayClusters[nmin].append(data[i])\n",
      "        k = 0\n",
      "        newClusters = np.array([np.mean(np.array(arrayClusters)[k], linspace(0,dim, 1)) for k in range(nClusters)])\n",
      "        k = 0\n",
      "        arrayV = array([[set(newClusters[k]) == set(clusterPoints[k])] for k in range(nClusters)])\n",
      "        trueValue = arrayV.all()\n",
      "        if trueValue:\n",
      "            termino = trueValue\n",
      "        else:\n",
      "            clusterPoints = newClusters\n",
      "        '''\n",
      "            if list(arrayClusters) == list(arrayClustersNew):\n",
      "                termino = True\n",
      "            else:\n",
      "                arrayClusters = arrayClustersNew\n",
      "        '''\n",
      "    return [arrayClusters, clusterPoints]\n",
      "        "
     ],
     "language": "python",
     "metadata": {},
     "outputs": [],
     "prompt_number": 276
    },
    {
     "cell_type": "code",
     "collapsed": false,
     "input": [
      "clusteringyeah = clustering(2, datos)\n",
      "cluster1 = np.array(clusteringyeah[0][0])\n",
      "cluster2 = np.array(clusteringyeah[0][1])\n",
      "center1 = clusteringyeah[1][0]\n",
      "center2 = clusteringyeah[1][1]\n",
      "scatter(cluster1.T[0], cluster1.T[1], s = 50, marker = 'o', c = 'r', alpha = 0.5 )\n",
      "scatter(cluster2.T[0], cluster2.T[1], s = 50, marker = '^', c = 'b', alpha = 0.3)\n",
      "scatter(center1.T[0], center1.T[1], s = 100, marker = 'o', c = 'r')\n",
      "scatter(center2.T[0], center2.T[1], s = 100, marker = '^', c = 'b')"
     ],
     "language": "python",
     "metadata": {},
     "outputs": [
      {
       "metadata": {},
       "output_type": "pyout",
       "prompt_number": 357,
       "text": [
        "<matplotlib.collections.PathCollection at 0x16ab1110>"
       ]
      },
      {
       "metadata": {},
       "output_type": "display_data",
       "png": "[encoded data removed]",
       "text": [
        "<matplotlib.figure.Figure at 0x16a07050>"
       ]
      }
     ],
     "prompt_number": 357
    },
    {
     "cell_type": "code",
     "collapsed": false,
     "input": [],
     "language": "python",
     "metadata": {},
     "outputs": []
    }
   ],
   "metadata": {}
  }
 ]
}