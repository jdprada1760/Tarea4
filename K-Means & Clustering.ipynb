{
 "metadata": {
  "name": "",
  "signature": "sha256:2199c0ca0553c5e470f24f8f8ab36495c38c05a32dd24f087f31c7b2af4ac8a8"
 },
 "nbformat": 3,
 "nbformat_minor": 0,
 "worksheets": [
  {
   "cells": [
    {
     "cell_type": "code",
     "collapsed": false,
     "input": [
      "%pylab inline\n",
      "import scipy\n",
      "import collections"
     ],
     "language": "python",
     "metadata": {},
     "outputs": [
      {
       "output_type": "stream",
       "stream": "stdout",
       "text": [
        "Populating the interactive namespace from numpy and matplotlib\n"
       ]
      }
     ],
     "prompt_number": 2
    },
    {
     "cell_type": "code",
     "collapsed": false,
     "input": [
      "datos1 = loadtxt('data.dat')\n",
      "datos = []\n",
      "i  = j = 0\n",
      "for i in range(3):\n",
      "    randVec = 10*np.random.random(2)\n",
      "    for j in range(20):\n",
      "        datos.append(randVec + 1 -2*np.random.random(2))\n",
      "        \n",
      "datos = np.array(datos)\n",
      "scatter(datos.T[0], datos.T[1])\n",
      "shape(datos)"
     ],
     "language": "python",
     "metadata": {},
     "outputs": [
      {
       "metadata": {},
       "output_type": "pyout",
       "prompt_number": 6,
       "text": [
        "(60, 2)"
       ]
      },
      {
       "metadata": {},
       "output_type": "display_data",
       "png": "[encoded data removed]",
       "text": [
        "<matplotlib.figure.Figure at 0x42df7d0>"
       ]
      }
     ],
     "prompt_number": 6
    },
    {
     "cell_type": "code",
     "collapsed": false,
     "input": [
      "def clustering( nClusters, data ):\n",
      "    i = j = 0\n",
      "    dim = len(data[0])\n",
      "    muestra = len(data)\n",
      "    arrayClusters = [[] for i in range(nClusters)]\n",
      "    clusterPoints = 10*np.random.random((nClusters, dim))\n",
      "    print shape(clusterPoints), len(clusterPoints[0])\n",
      "    termino = False\n",
      "    while termino == False :\n",
      "        arrayClusters = [[] for i in range(nClusters)]\n",
      "        i = 0\n",
      "        for i in range(muestra):\n",
      "            dmin = np.linalg.norm(data[i] - clusterPoints[0])\n",
      "            nmin = 0\n",
      "            for j in range(1, nClusters):\n",
      "                n = np.linalg.norm(data[i] - clusterPoints[j])\n",
      "                if n < dmin:\n",
      "                    dmin = n\n",
      "                    nmin = j\n",
      "            if len(arrayClusters[nmin]) == 0:\n",
      "                arrayClusters[nmin] = [data[i]]\n",
      "            else:\n",
      "                arrayClusters[nmin].append(data[i])\n",
      "        k = 0\n",
      "        newClusters = np.array([np.mean(np.array(arrayClusters)[k], linspace(0,dim, 1)) for k in range(nClusters)])\n",
      "        k = 0\n",
      "        trueValue = False\n",
      "        try:\n",
      "            arrayV = array([[set(newClusters[k]) == set(clusterPoints[k])] for k in range(nClusters)])\n",
      "            trueValue = arrayV.all()\n",
      "        except TypeError:\n",
      "            trueValue = False\n",
      "        if trueValue:\n",
      "             termino = trueValue\n",
      "        else:\n",
      "             clusterPoints = newClusters\n",
      "            \n",
      "    return [arrayClusters, clusterPoints]\n",
      "        "
     ],
     "language": "python",
     "metadata": {},
     "outputs": [],
     "prompt_number": 137
    },
    {
     "cell_type": "code",
     "collapsed": false,
     "input": [],
     "language": "python",
     "metadata": {},
     "outputs": [],
     "prompt_number": 85
    },
    {
     "cell_type": "code",
     "collapsed": false,
     "input": [
      "clusteringT = clustering(2, datos1)\n",
      "cluster1 = np.array(clusteringT[0][0])\n",
      "cluster2 = np.array(clusteringT[0][1])\n",
      "center1 = clusteringT[1][0]\n",
      "center2 = clusteringT[1][1]\n",
      "\n",
      "scatter(cluster1.T[0], cluster1.T[1], s = 50, marker = 'o', c = 'r', alpha = 0.5 )\n",
      "scatter(cluster2.T[0], cluster2.T[1], s = 50, marker = '^', c = 'b', alpha = 0.3)\n",
      "scatter(center1.T[0], center1.T[1], s = 100, marker = 'o', c = 'r')\n",
      "scatter(center2.T[0], center2.T[1], s = 100, marker = '^', c = 'b')"
     ],
     "language": "python",
     "metadata": {},
     "outputs": [
      {
       "output_type": "stream",
       "stream": "stdout",
       "text": [
        "(2, 2) 2\n"
       ]
      },
      {
       "ename": "ValueError",
       "evalue": "setting an array element with a sequence.",
       "output_type": "pyerr",
       "traceback": [
        "\u001b[1;31m---------------------------------------------------------------------------\u001b[0m\n\u001b[1;31mValueError\u001b[0m                                Traceback (most recent call last)",
        "\u001b[1;32m<ipython-input-201-3bd7bac5dbbe>\u001b[0m in \u001b[0;36m<module>\u001b[1;34m()\u001b[0m\n\u001b[1;32m----> 1\u001b[1;33m \u001b[0mclusteringT\u001b[0m \u001b[1;33m=\u001b[0m \u001b[0mclustering\u001b[0m\u001b[1;33m(\u001b[0m\u001b[1;36m2\u001b[0m\u001b[1;33m,\u001b[0m \u001b[0mdatos1\u001b[0m\u001b[1;33m)\u001b[0m\u001b[1;33m\u001b[0m\u001b[0m\n\u001b[0m\u001b[0;32m      2\u001b[0m \u001b[0mcluster1\u001b[0m \u001b[1;33m=\u001b[0m \u001b[0mnp\u001b[0m\u001b[1;33m.\u001b[0m\u001b[0marray\u001b[0m\u001b[1;33m(\u001b[0m\u001b[0mclusteringT\u001b[0m\u001b[1;33m[\u001b[0m\u001b[1;36m0\u001b[0m\u001b[1;33m]\u001b[0m\u001b[1;33m[\u001b[0m\u001b[1;36m0\u001b[0m\u001b[1;33m]\u001b[0m\u001b[1;33m)\u001b[0m\u001b[1;33m\u001b[0m\u001b[0m\n\u001b[0;32m      3\u001b[0m \u001b[0mcluster2\u001b[0m \u001b[1;33m=\u001b[0m \u001b[0mnp\u001b[0m\u001b[1;33m.\u001b[0m\u001b[0marray\u001b[0m\u001b[1;33m(\u001b[0m\u001b[0mclusteringT\u001b[0m\u001b[1;33m[\u001b[0m\u001b[1;36m0\u001b[0m\u001b[1;33m]\u001b[0m\u001b[1;33m[\u001b[0m\u001b[1;36m1\u001b[0m\u001b[1;33m]\u001b[0m\u001b[1;33m)\u001b[0m\u001b[1;33m\u001b[0m\u001b[0m\n\u001b[0;32m      4\u001b[0m \u001b[0mcenter1\u001b[0m \u001b[1;33m=\u001b[0m \u001b[0mclusteringT\u001b[0m\u001b[1;33m[\u001b[0m\u001b[1;36m1\u001b[0m\u001b[1;33m]\u001b[0m\u001b[1;33m[\u001b[0m\u001b[1;36m0\u001b[0m\u001b[1;33m]\u001b[0m\u001b[1;33m\u001b[0m\u001b[0m\n\u001b[0;32m      5\u001b[0m \u001b[0mcenter2\u001b[0m \u001b[1;33m=\u001b[0m \u001b[0mclusteringT\u001b[0m\u001b[1;33m[\u001b[0m\u001b[1;36m1\u001b[0m\u001b[1;33m]\u001b[0m\u001b[1;33m[\u001b[0m\u001b[1;36m1\u001b[0m\u001b[1;33m]\u001b[0m\u001b[1;33m\u001b[0m\u001b[0m\n",
        "\u001b[1;32m<ipython-input-137-371a68ec8e9e>\u001b[0m in \u001b[0;36mclustering\u001b[1;34m(nClusters, data)\u001b[0m\n\u001b[0;32m     23\u001b[0m                 \u001b[0marrayClusters\u001b[0m\u001b[1;33m[\u001b[0m\u001b[0mnmin\u001b[0m\u001b[1;33m]\u001b[0m\u001b[1;33m.\u001b[0m\u001b[0mappend\u001b[0m\u001b[1;33m(\u001b[0m\u001b[0mdata\u001b[0m\u001b[1;33m[\u001b[0m\u001b[0mi\u001b[0m\u001b[1;33m]\u001b[0m\u001b[1;33m)\u001b[0m\u001b[1;33m\u001b[0m\u001b[0m\n\u001b[0;32m     24\u001b[0m         \u001b[0mk\u001b[0m \u001b[1;33m=\u001b[0m \u001b[1;36m0\u001b[0m\u001b[1;33m\u001b[0m\u001b[0m\n\u001b[1;32m---> 25\u001b[1;33m         \u001b[0mnewClusters\u001b[0m \u001b[1;33m=\u001b[0m \u001b[0mnp\u001b[0m\u001b[1;33m.\u001b[0m\u001b[0marray\u001b[0m\u001b[1;33m(\u001b[0m\u001b[1;33m[\u001b[0m\u001b[0mnp\u001b[0m\u001b[1;33m.\u001b[0m\u001b[0mmean\u001b[0m\u001b[1;33m(\u001b[0m\u001b[0mnp\u001b[0m\u001b[1;33m.\u001b[0m\u001b[0marray\u001b[0m\u001b[1;33m(\u001b[0m\u001b[0marrayClusters\u001b[0m\u001b[1;33m)\u001b[0m\u001b[1;33m[\u001b[0m\u001b[0mk\u001b[0m\u001b[1;33m]\u001b[0m\u001b[1;33m,\u001b[0m \u001b[0mlinspace\u001b[0m\u001b[1;33m(\u001b[0m\u001b[1;36m0\u001b[0m\u001b[1;33m,\u001b[0m\u001b[0mdim\u001b[0m\u001b[1;33m,\u001b[0m \u001b[1;36m1\u001b[0m\u001b[1;33m)\u001b[0m\u001b[1;33m)\u001b[0m \u001b[1;32mfor\u001b[0m \u001b[0mk\u001b[0m \u001b[1;32min\u001b[0m \u001b[0mrange\u001b[0m\u001b[1;33m(\u001b[0m\u001b[0mnClusters\u001b[0m\u001b[1;33m)\u001b[0m\u001b[1;33m]\u001b[0m\u001b[1;33m)\u001b[0m\u001b[1;33m\u001b[0m\u001b[0m\n\u001b[0m\u001b[0;32m     26\u001b[0m         \u001b[0mk\u001b[0m \u001b[1;33m=\u001b[0m \u001b[1;36m0\u001b[0m\u001b[1;33m\u001b[0m\u001b[0m\n\u001b[0;32m     27\u001b[0m         \u001b[0mtrueValue\u001b[0m \u001b[1;33m=\u001b[0m \u001b[0mFalse\u001b[0m\u001b[1;33m\u001b[0m\u001b[0m\n",
        "\u001b[1;31mValueError\u001b[0m: setting an array element with a sequence."
       ]
      }
     ],
     "prompt_number": 201
    },
    {
     "cell_type": "code",
     "collapsed": false,
     "input": [
      "a  =[[],[]]\n",
      "a.append([1,2])\n",
      "a\n",
      "len(a[0])\n",
      "a"
     ],
     "language": "python",
     "metadata": {},
     "outputs": [
      {
       "metadata": {},
       "output_type": "pyout",
       "prompt_number": 152,
       "text": [
        "[[], [], [1, 2]]"
       ]
      }
     ],
     "prompt_number": 152
    },
    {
     "cell_type": "code",
     "collapsed": false,
     "input": [],
     "language": "python",
     "metadata": {},
     "outputs": [],
     "prompt_number": 83
    },
    {
     "cell_type": "code",
     "collapsed": false,
     "input": [],
     "language": "python",
     "metadata": {},
     "outputs": []
    }
   ],
   "metadata": {}
  }
 ]
}